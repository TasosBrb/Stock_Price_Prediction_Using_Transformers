{
 "cells": [
  {
   "cell_type": "code",
   "execution_count": 1,
   "metadata": {
    "id": "PgzT8MgpKIVZ"
   },
   "outputs": [],
   "source": [
    "import math\n",
    "import numpy as np\n",
    "import pandas as pd\n",
    "from sklearn.preprocessing import MinMaxScaler\n",
    "from keras.models import Sequential\n",
    "from keras.layers import Dense, LSTM\n",
    "import matplotlib.pyplot as plt\n",
    "plt.style.use('fivethirtyeight')"
   ]
  },
  {
   "cell_type": "code",
   "execution_count": 2,
   "metadata": {
    "id": "OMX36gE1KSvj"
   },
   "outputs": [],
   "source": [
    "df = pd.read_csv('AAPL.csv', delimiter=',', usecols=['Date', 'Open', 'High', 'Low', 'Close', 'Volume'])"
   ]
  },
  {
   "cell_type": "code",
   "execution_count": 3,
   "metadata": {
    "colab": {
     "base_uri": "https://localhost:8080/",
     "height": 238
    },
    "id": "vHfDmEBqg-DC",
    "outputId": "01f49086-425b-4c87-ec5e-11b3fa3a6ff6"
   },
   "outputs": [
    {
     "data": {
      "text/html": [
       "<div>\n",
       "<style scoped>\n",
       "    .dataframe tbody tr th:only-of-type {\n",
       "        vertical-align: middle;\n",
       "    }\n",
       "\n",
       "    .dataframe tbody tr th {\n",
       "        vertical-align: top;\n",
       "    }\n",
       "\n",
       "    .dataframe thead th {\n",
       "        text-align: right;\n",
       "    }\n",
       "</style>\n",
       "<table border=\"1\" class=\"dataframe\">\n",
       "  <thead>\n",
       "    <tr style=\"text-align: right;\">\n",
       "      <th></th>\n",
       "      <th>Date</th>\n",
       "      <th>Open</th>\n",
       "      <th>High</th>\n",
       "      <th>Low</th>\n",
       "      <th>Close</th>\n",
       "      <th>Volume</th>\n",
       "    </tr>\n",
       "  </thead>\n",
       "  <tbody>\n",
       "    <tr>\n",
       "      <th>0</th>\n",
       "      <td>2008-10-14</td>\n",
       "      <td>116.26</td>\n",
       "      <td>116.40</td>\n",
       "      <td>103.14</td>\n",
       "      <td>104.08</td>\n",
       "      <td>70749800</td>\n",
       "    </tr>\n",
       "    <tr>\n",
       "      <th>1</th>\n",
       "      <td>2008-10-13</td>\n",
       "      <td>104.55</td>\n",
       "      <td>110.53</td>\n",
       "      <td>101.02</td>\n",
       "      <td>110.26</td>\n",
       "      <td>54967000</td>\n",
       "    </tr>\n",
       "    <tr>\n",
       "      <th>2</th>\n",
       "      <td>2008-10-10</td>\n",
       "      <td>85.70</td>\n",
       "      <td>100.00</td>\n",
       "      <td>85.00</td>\n",
       "      <td>96.80</td>\n",
       "      <td>79260700</td>\n",
       "    </tr>\n",
       "    <tr>\n",
       "      <th>3</th>\n",
       "      <td>2008-10-09</td>\n",
       "      <td>93.35</td>\n",
       "      <td>95.80</td>\n",
       "      <td>86.60</td>\n",
       "      <td>88.74</td>\n",
       "      <td>57763700</td>\n",
       "    </tr>\n",
       "    <tr>\n",
       "      <th>4</th>\n",
       "      <td>2008-10-08</td>\n",
       "      <td>85.91</td>\n",
       "      <td>96.33</td>\n",
       "      <td>85.68</td>\n",
       "      <td>89.79</td>\n",
       "      <td>78847900</td>\n",
       "    </tr>\n",
       "  </tbody>\n",
       "</table>\n",
       "</div>"
      ],
      "text/plain": [
       "         Date    Open    High     Low   Close    Volume\n",
       "0  2008-10-14  116.26  116.40  103.14  104.08  70749800\n",
       "1  2008-10-13  104.55  110.53  101.02  110.26  54967000\n",
       "2  2008-10-10   85.70  100.00   85.00   96.80  79260700\n",
       "3  2008-10-09   93.35   95.80   86.60   88.74  57763700\n",
       "4  2008-10-08   85.91   96.33   85.68   89.79  78847900"
      ]
     },
     "execution_count": 3,
     "metadata": {},
     "output_type": "execute_result"
    }
   ],
   "source": [
    "df.head()"
   ]
  },
  {
   "cell_type": "code",
   "execution_count": 4,
   "metadata": {
    "colab": {
     "base_uri": "https://localhost:8080/",
     "height": 238
    },
    "id": "UPnh-CTOhFii",
    "outputId": "b8cbce2c-8edf-4df3-d0ff-434c5560a911"
   },
   "outputs": [
    {
     "data": {
      "text/html": [
       "<div>\n",
       "<style scoped>\n",
       "    .dataframe tbody tr th:only-of-type {\n",
       "        vertical-align: middle;\n",
       "    }\n",
       "\n",
       "    .dataframe tbody tr th {\n",
       "        vertical-align: top;\n",
       "    }\n",
       "\n",
       "    .dataframe thead th {\n",
       "        text-align: right;\n",
       "    }\n",
       "</style>\n",
       "<table border=\"1\" class=\"dataframe\">\n",
       "  <thead>\n",
       "    <tr style=\"text-align: right;\">\n",
       "      <th></th>\n",
       "      <th>Date</th>\n",
       "      <th>Open</th>\n",
       "      <th>High</th>\n",
       "      <th>Low</th>\n",
       "      <th>Close</th>\n",
       "      <th>Volume</th>\n",
       "    </tr>\n",
       "  </thead>\n",
       "  <tbody>\n",
       "    <tr>\n",
       "      <th>6076</th>\n",
       "      <td>1984-09-13</td>\n",
       "      <td>27.50</td>\n",
       "      <td>27.62</td>\n",
       "      <td>27.50</td>\n",
       "      <td>27.50</td>\n",
       "      <td>7429600</td>\n",
       "    </tr>\n",
       "    <tr>\n",
       "      <th>6077</th>\n",
       "      <td>1984-09-12</td>\n",
       "      <td>26.87</td>\n",
       "      <td>27.00</td>\n",
       "      <td>26.12</td>\n",
       "      <td>26.12</td>\n",
       "      <td>4773600</td>\n",
       "    </tr>\n",
       "    <tr>\n",
       "      <th>6078</th>\n",
       "      <td>1984-09-11</td>\n",
       "      <td>26.62</td>\n",
       "      <td>27.37</td>\n",
       "      <td>26.62</td>\n",
       "      <td>26.87</td>\n",
       "      <td>5444000</td>\n",
       "    </tr>\n",
       "    <tr>\n",
       "      <th>6079</th>\n",
       "      <td>1984-09-10</td>\n",
       "      <td>26.50</td>\n",
       "      <td>26.62</td>\n",
       "      <td>25.87</td>\n",
       "      <td>26.37</td>\n",
       "      <td>2346400</td>\n",
       "    </tr>\n",
       "    <tr>\n",
       "      <th>6080</th>\n",
       "      <td>1984-09-07</td>\n",
       "      <td>26.50</td>\n",
       "      <td>26.87</td>\n",
       "      <td>26.25</td>\n",
       "      <td>26.50</td>\n",
       "      <td>2981600</td>\n",
       "    </tr>\n",
       "  </tbody>\n",
       "</table>\n",
       "</div>"
      ],
      "text/plain": [
       "            Date   Open   High    Low  Close   Volume\n",
       "6076  1984-09-13  27.50  27.62  27.50  27.50  7429600\n",
       "6077  1984-09-12  26.87  27.00  26.12  26.12  4773600\n",
       "6078  1984-09-11  26.62  27.37  26.62  26.87  5444000\n",
       "6079  1984-09-10  26.50  26.62  25.87  26.37  2346400\n",
       "6080  1984-09-07  26.50  26.87  26.25  26.50  2981600"
      ]
     },
     "execution_count": 4,
     "metadata": {},
     "output_type": "execute_result"
    }
   ],
   "source": [
    "df.tail()"
   ]
  },
  {
   "cell_type": "code",
   "execution_count": 5,
   "metadata": {
    "colab": {
     "base_uri": "https://localhost:8080/",
     "height": 300
    },
    "id": "3pqvDlx-hGAL",
    "outputId": "c82504a2-a122-4a23-b138-4a5e45cbc680"
   },
   "outputs": [
    {
     "data": {
      "text/html": [
       "<div>\n",
       "<style scoped>\n",
       "    .dataframe tbody tr th:only-of-type {\n",
       "        vertical-align: middle;\n",
       "    }\n",
       "\n",
       "    .dataframe tbody tr th {\n",
       "        vertical-align: top;\n",
       "    }\n",
       "\n",
       "    .dataframe thead th {\n",
       "        text-align: right;\n",
       "    }\n",
       "</style>\n",
       "<table border=\"1\" class=\"dataframe\">\n",
       "  <thead>\n",
       "    <tr style=\"text-align: right;\">\n",
       "      <th></th>\n",
       "      <th>Open</th>\n",
       "      <th>High</th>\n",
       "      <th>Low</th>\n",
       "      <th>Close</th>\n",
       "      <th>Volume</th>\n",
       "    </tr>\n",
       "  </thead>\n",
       "  <tbody>\n",
       "    <tr>\n",
       "      <th>count</th>\n",
       "      <td>6081.000000</td>\n",
       "      <td>6081.000000</td>\n",
       "      <td>6081.000000</td>\n",
       "      <td>6081.000000</td>\n",
       "      <td>6.081000e+03</td>\n",
       "    </tr>\n",
       "    <tr>\n",
       "      <th>mean</th>\n",
       "      <td>46.823511</td>\n",
       "      <td>47.681506</td>\n",
       "      <td>45.913595</td>\n",
       "      <td>46.798619</td>\n",
       "      <td>1.363986e+07</td>\n",
       "    </tr>\n",
       "    <tr>\n",
       "      <th>std</th>\n",
       "      <td>33.993517</td>\n",
       "      <td>34.578077</td>\n",
       "      <td>33.273106</td>\n",
       "      <td>33.947235</td>\n",
       "      <td>1.352107e+07</td>\n",
       "    </tr>\n",
       "    <tr>\n",
       "      <th>min</th>\n",
       "      <td>12.880000</td>\n",
       "      <td>13.190000</td>\n",
       "      <td>12.720000</td>\n",
       "      <td>12.940000</td>\n",
       "      <td>8.880000e+04</td>\n",
       "    </tr>\n",
       "    <tr>\n",
       "      <th>25%</th>\n",
       "      <td>24.730000</td>\n",
       "      <td>25.010000</td>\n",
       "      <td>24.200000</td>\n",
       "      <td>24.690000</td>\n",
       "      <td>5.530000e+06</td>\n",
       "    </tr>\n",
       "    <tr>\n",
       "      <th>50%</th>\n",
       "      <td>38.250000</td>\n",
       "      <td>38.880000</td>\n",
       "      <td>37.460000</td>\n",
       "      <td>38.130000</td>\n",
       "      <td>8.976400e+06</td>\n",
       "    </tr>\n",
       "    <tr>\n",
       "      <th>75%</th>\n",
       "      <td>53.500000</td>\n",
       "      <td>54.550000</td>\n",
       "      <td>52.500000</td>\n",
       "      <td>53.610000</td>\n",
       "      <td>1.631920e+07</td>\n",
       "    </tr>\n",
       "    <tr>\n",
       "      <th>max</th>\n",
       "      <td>200.590000</td>\n",
       "      <td>202.960000</td>\n",
       "      <td>197.800000</td>\n",
       "      <td>199.830000</td>\n",
       "      <td>2.650690e+08</td>\n",
       "    </tr>\n",
       "  </tbody>\n",
       "</table>\n",
       "</div>"
      ],
      "text/plain": [
       "              Open         High          Low        Close        Volume\n",
       "count  6081.000000  6081.000000  6081.000000  6081.000000  6.081000e+03\n",
       "mean     46.823511    47.681506    45.913595    46.798619  1.363986e+07\n",
       "std      33.993517    34.578077    33.273106    33.947235  1.352107e+07\n",
       "min      12.880000    13.190000    12.720000    12.940000  8.880000e+04\n",
       "25%      24.730000    25.010000    24.200000    24.690000  5.530000e+06\n",
       "50%      38.250000    38.880000    37.460000    38.130000  8.976400e+06\n",
       "75%      53.500000    54.550000    52.500000    53.610000  1.631920e+07\n",
       "max     200.590000   202.960000   197.800000   199.830000  2.650690e+08"
      ]
     },
     "execution_count": 5,
     "metadata": {},
     "output_type": "execute_result"
    }
   ],
   "source": [
    "df.describe()"
   ]
  },
  {
   "cell_type": "code",
   "execution_count": 6,
   "metadata": {
    "colab": {
     "base_uri": "https://localhost:8080/"
    },
    "id": "h6Nie6uQLEsi",
    "outputId": "e85661c5-337c-4bfd-d0dd-cc3c9b4ed408"
   },
   "outputs": [
    {
     "data": {
      "text/plain": [
       "(6081, 6)"
      ]
     },
     "execution_count": 6,
     "metadata": {},
     "output_type": "execute_result"
    }
   ],
   "source": [
    "df.shape"
   ]
  },
  {
   "cell_type": "code",
   "execution_count": 7,
   "metadata": {
    "colab": {
     "base_uri": "https://localhost:8080/",
     "height": 432
    },
    "id": "h4HYhyqGM_y_",
    "outputId": "17ef29ec-0f3a-4d35-f8e3-8a47652179c9"
   },
   "outputs": [
    {
     "data": {
      "image/png": "[encoded data removed]",
      "text/plain": [
       "<Figure size 1600x800 with 1 Axes>"
      ]
     },
     "metadata": {},
     "output_type": "display_data"
    }
   ],
   "source": [
    "plt.figure(figsize=(16,8))\n",
    "plt.title('CLOSING PRICE HISTORY')\n",
    "plt.plot(df['Close'])\n",
    "plt.xlabel('Date', fontsize=18)\n",
    "plt.ylabel('Price in USD $', fontsize = 18)\n",
    "plt.show()\n",
    "\n"
   ]
  },
  {
   "cell_type": "code",
   "execution_count": 46,
   "metadata": {
    "colab": {
     "base_uri": "https://localhost:8080/"
    },
    "id": "bgxF9NIrNpQ_",
    "outputId": "1f7e9084-566f-4780-c5dc-5394e7604bd5"
   },
   "outputs": [
    {
     "name": "stdout",
     "output_type": "stream",
     "text": [
      "[[ 0.0097431 ]\n",
      " [-0.00503606]\n",
      " [ 0.03182702]\n",
      " ...\n",
      " [ 0.00276284]\n",
      " [-0.00091841]\n",
      " [-0.00136049]]\n"
     ]
    },
    {
     "data": {
      "text/plain": [
       "4857"
      ]
     },
     "execution_count": 46,
     "metadata": {},
     "output_type": "execute_result"
    }
   ],
   "source": [
    "data = df.filter(['Close']).rolling(window=10).mean()\n",
    "\n",
    "data = data.dropna()\n",
    "\n",
    "def calculate_return(vector):\n",
    "    returns = []\n",
    "    for i in range(1, len(vector)):\n",
    "        previous_value = vector[i-1]\n",
    "        current_value = vector[i]\n",
    "        return_value = (current_value - previous_value) / previous_value\n",
    "        returns.append(return_value)\n",
    "    return returns\n",
    "\n",
    "\n",
    "x = calculate_return(data.values)\n",
    "\n",
    "x = np.array(x)\n",
    "\n",
    "dataset = x\n",
    "\n",
    "print(dataset)\n",
    "\n",
    "training_data_len = math.ceil(len(dataset) * .8)\n",
    "\n",
    "\n",
    "training_data_len \n",
    "                              "
   ]
  },
  {
   "cell_type": "code",
   "execution_count": 47,
   "metadata": {
    "colab": {
     "base_uri": "https://localhost:8080/"
    },
    "id": "p9m1Aq5ZOKIf",
    "outputId": "f97445dd-58b9-47e4-cef6-94e1af0088d5"
   },
   "outputs": [
    {
     "data": {
      "text/plain": [
       "array([[0.35410978],\n",
       "       [0.28634858],\n",
       "       [0.45536269],\n",
       "       ...,\n",
       "       [0.32210586],\n",
       "       [0.30522765],\n",
       "       [0.30320073]])"
      ]
     },
     "execution_count": 47,
     "metadata": {},
     "output_type": "execute_result"
    }
   ],
   "source": [
    "\n",
    "scaler = MinMaxScaler(feature_range=(0,1))\n",
    "scaled_data = scaler.fit_transform(dataset)\n",
    "\n",
    "scaled_data"
   ]
  },
  {
   "cell_type": "code",
   "execution_count": 48,
   "metadata": {
    "colab": {
     "base_uri": "https://localhost:8080/"
    },
    "id": "PtQ2zDmgFRQw",
    "outputId": "8a5820a9-8677-4d31-8710-b9e798609f28"
   },
   "outputs": [
    {
     "name": "stdout",
     "output_type": "stream",
     "text": [
      "[array([[0.35410978],\n",
      "       [0.28634858],\n",
      "       [0.45536269],\n",
      "       [0.50371535],\n",
      "       [0.4773914 ],\n",
      "       [0.46629449],\n",
      "       [0.44190584],\n",
      "       [0.48094544],\n",
      "       [0.43761642],\n",
      "       [0.37807594],\n",
      "       [0.40420758],\n",
      "       [0.43373414],\n",
      "       [0.38080629],\n",
      "       [0.37978032],\n",
      "       [0.38600644],\n",
      "       [0.39112876],\n",
      "       [0.39625786],\n",
      "       [0.37054448],\n",
      "       [0.39433738],\n",
      "       [0.42966322],\n",
      "       [0.38820898],\n",
      "       [0.39529657],\n",
      "       [0.38109224],\n",
      "       [0.3720811 ],\n",
      "       [0.37126483],\n",
      "       [0.36723003],\n",
      "       [0.36104135],\n",
      "       [0.34759496],\n",
      "       [0.3486478 ],\n",
      "       [0.32690913],\n",
      "       [0.33380985],\n",
      "       [0.32580217],\n",
      "       [0.3240898 ],\n",
      "       [0.32155667],\n",
      "       [0.31750468],\n",
      "       [0.31207038],\n",
      "       [0.29058305],\n",
      "       [0.28140466],\n",
      "       [0.27878519],\n",
      "       [0.27529425],\n",
      "       [0.25029859],\n",
      "       [0.257853  ],\n",
      "       [0.25373862],\n",
      "       [0.25568326],\n",
      "       [0.25440134],\n",
      "       [0.25512175],\n",
      "       [0.28812263],\n",
      "       [0.29635288],\n",
      "       [0.3154219 ],\n",
      "       [0.31342223],\n",
      "       [0.347107  ],\n",
      "       [0.33372636],\n",
      "       [0.34603403],\n",
      "       [0.34594187],\n",
      "       [0.34461722],\n",
      "       [0.3635837 ],\n",
      "       [0.33817301],\n",
      "       [0.35748609],\n",
      "       [0.33102479],\n",
      "       [0.35657675]])]\n",
      "[0.33304723701254646]\n",
      "\n",
      "[array([[0.35410978],\n",
      "       [0.28634858],\n",
      "       [0.45536269],\n",
      "       [0.50371535],\n",
      "       [0.4773914 ],\n",
      "       [0.46629449],\n",
      "       [0.44190584],\n",
      "       [0.48094544],\n",
      "       [0.43761642],\n",
      "       [0.37807594],\n",
      "       [0.40420758],\n",
      "       [0.43373414],\n",
      "       [0.38080629],\n",
      "       [0.37978032],\n",
      "       [0.38600644],\n",
      "       [0.39112876],\n",
      "       [0.39625786],\n",
      "       [0.37054448],\n",
      "       [0.39433738],\n",
      "       [0.42966322],\n",
      "       [0.38820898],\n",
      "       [0.39529657],\n",
      "       [0.38109224],\n",
      "       [0.3720811 ],\n",
      "       [0.37126483],\n",
      "       [0.36723003],\n",
      "       [0.36104135],\n",
      "       [0.34759496],\n",
      "       [0.3486478 ],\n",
      "       [0.32690913],\n",
      "       [0.33380985],\n",
      "       [0.32580217],\n",
      "       [0.3240898 ],\n",
      "       [0.32155667],\n",
      "       [0.31750468],\n",
      "       [0.31207038],\n",
      "       [0.29058305],\n",
      "       [0.28140466],\n",
      "       [0.27878519],\n",
      "       [0.27529425],\n",
      "       [0.25029859],\n",
      "       [0.257853  ],\n",
      "       [0.25373862],\n",
      "       [0.25568326],\n",
      "       [0.25440134],\n",
      "       [0.25512175],\n",
      "       [0.28812263],\n",
      "       [0.29635288],\n",
      "       [0.3154219 ],\n",
      "       [0.31342223],\n",
      "       [0.347107  ],\n",
      "       [0.33372636],\n",
      "       [0.34603403],\n",
      "       [0.34594187],\n",
      "       [0.34461722],\n",
      "       [0.3635837 ],\n",
      "       [0.33817301],\n",
      "       [0.35748609],\n",
      "       [0.33102479],\n",
      "       [0.35657675]]), array([[0.28634858],\n",
      "       [0.45536269],\n",
      "       [0.50371535],\n",
      "       [0.4773914 ],\n",
      "       [0.46629449],\n",
      "       [0.44190584],\n",
      "       [0.48094544],\n",
      "       [0.43761642],\n",
      "       [0.37807594],\n",
      "       [0.40420758],\n",
      "       [0.43373414],\n",
      "       [0.38080629],\n",
      "       [0.37978032],\n",
      "       [0.38600644],\n",
      "       [0.39112876],\n",
      "       [0.39625786],\n",
      "       [0.37054448],\n",
      "       [0.39433738],\n",
      "       [0.42966322],\n",
      "       [0.38820898],\n",
      "       [0.39529657],\n",
      "       [0.38109224],\n",
      "       [0.3720811 ],\n",
      "       [0.37126483],\n",
      "       [0.36723003],\n",
      "       [0.36104135],\n",
      "       [0.34759496],\n",
      "       [0.3486478 ],\n",
      "       [0.32690913],\n",
      "       [0.33380985],\n",
      "       [0.32580217],\n",
      "       [0.3240898 ],\n",
      "       [0.32155667],\n",
      "       [0.31750468],\n",
      "       [0.31207038],\n",
      "       [0.29058305],\n",
      "       [0.28140466],\n",
      "       [0.27878519],\n",
      "       [0.27529425],\n",
      "       [0.25029859],\n",
      "       [0.257853  ],\n",
      "       [0.25373862],\n",
      "       [0.25568326],\n",
      "       [0.25440134],\n",
      "       [0.25512175],\n",
      "       [0.28812263],\n",
      "       [0.29635288],\n",
      "       [0.3154219 ],\n",
      "       [0.31342223],\n",
      "       [0.347107  ],\n",
      "       [0.33372636],\n",
      "       [0.34603403],\n",
      "       [0.34594187],\n",
      "       [0.34461722],\n",
      "       [0.3635837 ],\n",
      "       [0.33817301],\n",
      "       [0.35748609],\n",
      "       [0.33102479],\n",
      "       [0.35657675],\n",
      "       [0.33304724]])]\n",
      "[0.33304723701254646, 0.3225990702154839]\n",
      "\n"
     ]
    }
   ],
   "source": [
    "\n",
    "train_data = scaled_data[0:training_data_len, : ]\n",
    "\n",
    "\n",
    "x_train = []\n",
    "y_train = []\n",
    "\n",
    "for i in range(60 , len(train_data)):\n",
    "  x_train.append(train_data[i-60:i, ])\n",
    "  y_train.append(train_data[i, 0])\n",
    "\n",
    "\n",
    "  if i<=61:\n",
    "    print(x_train)\n",
    "    print(y_train)\n",
    "    print()"
   ]
  },
  {
   "cell_type": "code",
   "execution_count": 49,
   "metadata": {
    "id": "J7ynTEmoHJXq"
   },
   "outputs": [],
   "source": [
    "x_train , y_train = np.array(x_train), np.array(y_train)"
   ]
  },
  {
   "cell_type": "code",
   "execution_count": 50,
   "metadata": {
    "colab": {
     "base_uri": "https://localhost:8080/"
    },
    "id": "VV-2YPLsITtQ",
    "outputId": "d6afb619-d3cc-42dd-e7c2-ee87661752cc"
   },
   "outputs": [
    {
     "data": {
      "text/plain": [
       "(4797, 60, 1)"
      ]
     },
     "execution_count": 50,
     "metadata": {},
     "output_type": "execute_result"
    }
   ],
   "source": [
    "x_train = np.reshape(x_train, (x_train.shape[0], x_train.shape[1], 1))\n",
    "x_train.shape"
   ]
  },
  {
   "cell_type": "code",
   "execution_count": 51,
   "metadata": {
    "id": "YZDfHWr3IVoV"
   },
   "outputs": [],
   "source": [
    "model = Sequential()\n",
    "model.add(LSTM(50, return_sequences =True, input_shape = (x_train.shape[1], 1)))\n",
    "model.add(LSTM(50, return_sequences = False))\n",
    "model.add(Dense(25))\n",
    "model.add(Dense(1))"
   ]
  },
  {
   "cell_type": "code",
   "execution_count": 52,
   "metadata": {
    "id": "34TjSzBfJa3w"
   },
   "outputs": [],
   "source": [
    "model.compile(optimizer = 'adam', loss ='mean_squared_error')"
   ]
  },
  {
   "cell_type": "code",
   "execution_count": 53,
   "metadata": {
    "colab": {
     "base_uri": "https://localhost:8080/"
    },
    "id": "d3wf2BQTLij1",
    "outputId": "b9cea000-59c9-4234-86af-49913504e270"
   },
   "outputs": [
    {
     "name": "stdout",
     "output_type": "stream",
     "text": [
      "4797/4797 [==============================] - 182s 37ms/step - loss: 0.0020\n"
     ]
    },
    {
     "data": {
      "text/plain": [
       "<tensorflow.python.keras.callbacks.History at 0x2c58f989580>"
      ]
     },
     "execution_count": 53,
     "metadata": {},
     "output_type": "execute_result"
    }
   ],
   "source": [
    "model.fit(x_train, y_train, batch_size=1, epochs=1)"
   ]
  },
  {
   "cell_type": "code",
   "execution_count": 54,
   "metadata": {
    "id": "aPbW115fMwfO"
   },
   "outputs": [],
   "source": [
    "test_data = scaled_data[training_data_len - 60: , : ]\n",
    "\n",
    "x_test = []\n",
    "y_test = dataset[training_data_len: , : ]\n",
    "\n",
    "for i in range(60, len(test_data)):\n",
    "  x_test.append(test_data[i-60 :  i, 0])\n",
    "\n"
   ]
  },
  {
   "cell_type": "code",
   "execution_count": 55,
   "metadata": {
    "id": "Gca4WHLbNef6"
   },
   "outputs": [],
   "source": [
    "\n",
    "x_test = np.array(x_test)\n"
   ]
  },
  {
   "cell_type": "code",
   "execution_count": 56,
   "metadata": {
    "id": "ZrtM7j8NNtIp"
   },
   "outputs": [],
   "source": [
    "x_test = np.reshape(x_test, (x_test.shape[0], x_test.shape[1], 1))"
   ]
  },
  {
   "cell_type": "code",
   "execution_count": 57,
   "metadata": {
    "id": "Zulng6wkN8dv"
   },
   "outputs": [],
   "source": [
    "\n",
    "predictions = model.predict(x_test)\n",
    "predictions = scaler.inverse_transform(predictions)"
   ]
  },
  {
   "cell_type": "code",
   "execution_count": 59,
   "metadata": {
    "colab": {
     "base_uri": "https://localhost:8080/"
    },
    "id": "XYCn3wNtPuZy",
    "outputId": "f2e443ef-300c-46ac-a74e-b6346164fc90"
   },
   "outputs": [
    {
     "name": "stdout",
     "output_type": "stream",
     "text": [
      "Loss : 0.006397275687696749\n",
      "MAE : 0.004661950972641756\n"
     ]
    }
   ],
   "source": [
    "def mae(act, pred):\n",
    "    diff = pred - act\n",
    "    abs_diff = np.absolute(diff)\n",
    "    mean_diff = abs_diff.mean()\n",
    "    return mean_diff\n",
    "\n",
    "def mape(actual, pred): \n",
    "    actual, pred = np.array(actual), np.array(pred)\n",
    "    return np.mean(np.abs((actual - pred) / actual)) * 100\n",
    "\n",
    "\n",
    "from sklearn.metrics import mean_squared_error\n",
    "\n",
    "loss = mean_squared_error(y_test, predictions, squared=False)\n",
    "\n",
    "print(\"Loss : \" + str(loss))\n",
    "\n",
    "print(\"MAE : \"+ str(mae(y_test,predictions)))\n",
    "\n",
    "\n",
    "\n"
   ]
  },
  {
   "cell_type": "code",
   "execution_count": null,
   "metadata": {},
   "outputs": [],
   "source": []
  }
 ],
 "metadata": {
  "colab": {
   "collapsed_sections": [
    "MNN2L8SDi2-D"
   ],
   "provenance": []
  },
  "kernelspec": {
   "display_name": "Python 3 (ipykernel)",
   "language": "python",
   "name": "python3"
  },
  "language_info": {
   "codemirror_mode": {
    "name": "ipython",
    "version": 3
   },
   "file_extension": ".py",
   "mimetype": "text/x-python",
   "name": "python",
   "nbconvert_exporter": "python",
   "pygments_lexer": "ipython3",
   "version": "3.8.16"
  }
 },
 "nbformat": 4,
 "nbformat_minor": 1
}
